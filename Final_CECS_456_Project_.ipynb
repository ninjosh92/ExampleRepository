{
  "cells": [
    {
      "cell_type": "markdown",
      "metadata": {
        "id": "view-in-github",
        "colab_type": "text"
      },
      "source": [
        "<a href=\"https://colab.research.google.com/github/ninjosh92/ExampleRepository/blob/master/Final_CECS_456_Project_.ipynb\" target=\"_parent\"><img src=\"https://colab.research.google.com/assets/colab-badge.svg\" alt=\"Open In Colab\"/></a>"
      ]
    },
    {
      "cell_type": "code",
      "execution_count": null,
      "metadata": {
        "id": "ZLQtuJF5jZKv"
      },
      "outputs": [],
      "source": [
        "#importing the tools I need\n",
        "import tensorflow as tf\n",
        "from tensorflow import keras\n",
        "import sklearn\n",
        "import numpy as np\n",
        "np.random.seed(42)\n",
        "import matplotlib as mpl\n",
        "import matplotlib.pyplot as plt\n",
        "from keras.models import Sequential\n",
        "\n",
        "from keras.layers import Dense, Activation, Dropout, Flatten, Conv2D, MaxPooling2D\n",
        "#This has all the features that alexnet needs to work properly\n",
        "\n",
        "from keras.layers.normalization import batch_normalization"
      ]
    },
    {
      "cell_type": "code",
      "execution_count": null,
      "metadata": {
        "colab": {
          "base_uri": "https://localhost:8080/"
        },
        "id": "BcobSQKPB4W_",
        "outputId": "575393b5-c873-4b53-92cd-e68b3670e30a"
      },
      "outputs": [
        {
          "name": "stdout",
          "output_type": "stream",
          "text": [
            "Mounted at /content/drive\n"
          ]
        }
      ],
      "source": [
        "from tensorflow.keras.preprocessing.image import ImageDataGenerator\n",
        "from google.colab import drive\n",
        "drive.mount('/content/drive', force_remount=True)"
      ]
    },
    {
      "cell_type": "code",
      "execution_count": null,
      "metadata": {
        "id": "iGqZb99OlkwD"
      },
      "outputs": [],
      "source": [
        "import cv2\n",
        "import os\n",
        "import time"
      ]
    },
    {
      "cell_type": "code",
      "execution_count": null,
      "metadata": {
        "id": "_4ucFHrVbtwW"
      },
      "outputs": [],
      "source": [
        "#importing data\n",
        "\n",
        "trainset_path = '/content/drive/MyDrive/Colab Notebooks/train'\n",
        "testset_path = '/content/drive/MyDrive/Colab Notebooks/test'\n",
        "\n",
        "#for dirname, _, filenames in os.walk(dataset_path):\n",
        "#  for filename in filenames:\n",
        "#    print(os.path.join(dirname, filename))\n",
        "\n",
        "\n",
        "\n",
        "#CATEGORIES = ['NORMAL', 'PNEUMONIA']\n",
        "\n",
        "#for category in CATEGORIES:\n",
        "#  path = os.path.join(DATADIR, category)\n",
        "#  for img in os.listdir(path):\n",
        "#    img_array = cv2.imread(os.path.join(path, img), cv2.IMREAD_COLOR)\n",
        "#    plt.imshow(img_array, cmap= 'rgb')\n",
        "#    plt.show()\n",
        "#    break\n",
        "#  break"
      ]
    },
    {
      "cell_type": "code",
      "execution_count": null,
      "metadata": {
        "colab": {
          "base_uri": "https://localhost:8080/"
        },
        "id": "EOSuJw2wYrRf",
        "outputId": "77b3ef2d-1aec-4c95-8e17-ad4822f95356"
      },
      "outputs": [
        {
          "name": "stdout",
          "output_type": "stream",
          "text": [
            "Found 5216 files belonging to 2 classes.\n",
            "Using 4695 files for training.\n",
            "Found 5216 files belonging to 2 classes.\n",
            "Using 4695 files for training.\n",
            "Found 5216 files belonging to 2 classes.\n",
            "Using 521 files for validation.\n"
          ]
        }
      ],
      "source": [
        "\n",
        "train_ds = tf.keras.preprocessing.image_dataset_from_directory(\n",
        "    trainset_path, \n",
        "    labels = 'inferred',                      # labels are oganized alphabetically\n",
        "    label_mode = 'categorical',               # binary, int\n",
        "    class_names = ['NORMAL', 'PNEUMONIA'],\n",
        "    color_mode = 'grayscale',                 # rgb\n",
        "    batch_size = 1032,\n",
        "    image_size = (227, 227),                  # reshapes the image if not in this size\n",
        "    shuffle = True,                           # randomized order\n",
        "    seed = 123,                               # important for spliting into validation and training set \n",
        "    validation_split = 0.1,\n",
        "    subset = 'training',\n",
        ")\n",
        "\n",
        "test_ds = tf.keras.preprocessing.image_dataset_from_directory(\n",
        "    trainset_path, \n",
        "    labels = 'inferred',\n",
        "    label_mode = 'categorical',               # binary, int\n",
        "    class_names = ['NORMAL', 'PNEUMONIA'],\n",
        "    color_mode = 'grayscale',                 # rgb\n",
        "    batch_size = 132,\n",
        "    image_size = (227, 227),\n",
        "    shuffle = True,\n",
        "    seed = 123,\n",
        "    validation_split = 0.1,\n",
        "    subset = 'training',\n",
        ")\n",
        "\n",
        "validation_ds = tf.keras.preprocessing.image_dataset_from_directory(\n",
        "    trainset_path, \n",
        "    labels = 'inferred',\n",
        "    label_mode = 'categorical',                # binary, int\n",
        "    class_names = ['NORMAL', 'PNEUMONIA'],\n",
        "    color_mode = 'grayscale',                  # rgb\n",
        "    batch_size = 1032,\n",
        "    image_size = (227, 227),\n",
        "    shuffle = True,\n",
        "    seed = 123,\n",
        "    validation_split = 0.1,\n",
        "    subset = 'validation',\n",
        ")\n"
      ]
    },
    {
      "cell_type": "code",
      "execution_count": null,
      "metadata": {
        "id": "XcJ_aILAmtVv"
      },
      "outputs": [],
      "source": [
        "\n",
        "def augment(x, y):\n",
        "    image = tf.image.random_brightness(x, max_delta=0.05)\n",
        "    return image, y\n"
      ]
    },
    {
      "cell_type": "code",
      "execution_count": null,
      "metadata": {
        "id": "uePIBT0Rm9xw"
      },
      "outputs": [],
      "source": [
        "train_ds = train_ds.map(augment)"
      ]
    },
    {
      "cell_type": "code",
      "execution_count": null,
      "metadata": {
        "id": "Wwf1T-xnMhzs"
      },
      "outputs": [],
      "source": [
        "\"\"\"\n",
        "datagen = ImageDataGenerator(\n",
        "    rescale = 1.0 / 255,\n",
        "    rotation_range = 5,\n",
        "    zoom_range = (0.95, 0.95),\n",
        "    horizontal_flip = False,\n",
        "    vertical_flip = False,\n",
        "    data_format = 'channels_last',\n",
        "    validation_split = 0.2,\n",
        "    dtype = tf.float32,\n",
        ")\n",
        "\n",
        "train_generator = datagen.flow_from_directory(\n",
        "    trainset_path,\n",
        "    target_size = (227, 227),\n",
        "    batch_size = 1032,\n",
        "    color_mode = 'grayscale',\n",
        "    class_mode = 'categorical',\n",
        "    shuffle = True,\n",
        "    subset = 'training',\n",
        "    seed = 123,\n",
        ")\n",
        "\n",
        "validation_generator = datagen.flow_from_directory(\n",
        "    trainset_path,\n",
        "    target_size = (227, 227),\n",
        "    color_mode = 'grayscale',\n",
        "    batch_size = 1032,\n",
        "    class_mode='categorical',\n",
        "    shuffle = True,\n",
        "    subset = 'validation',\n",
        "    seed = 123,\n",
        ")\n",
        "\"\"\""
      ]
    },
    {
      "cell_type": "code",
      "execution_count": null,
      "metadata": {
        "id": "8Np-zpPMTZKr"
      },
      "outputs": [],
      "source": [
        "#def traning():\n",
        "#  pass"
      ]
    },
    {
      "cell_type": "code",
      "execution_count": null,
      "metadata": {
        "id": "nj8DwebNDZNr"
      },
      "outputs": [],
      "source": [
        "#def process_images(image, label):\n",
        "#  image = tf.image.per_image_standardization(image)\n",
        "#  image = tf.image.resize(image, (227,227, 3))\n",
        "#  return image, label"
      ]
    },
    {
      "cell_type": "code",
      "execution_count": null,
      "metadata": {
        "id": "vIAATPJqFiIH"
      },
      "outputs": [],
      "source": [
        "#train_ds = train_ds.map(process_images)"
      ]
    },
    {
      "cell_type": "code",
      "execution_count": null,
      "metadata": {
        "id": "59jJD9CGpQZZ"
      },
      "outputs": [],
      "source": [
        "#IMG_SIZE = 227\n",
        "\n",
        "#new_array = cv2.resize(img_array, (IMG_SIZE, IMG_SIZE))\n",
        "#plt.imshow(new_array, cmap = 'rgb')\n",
        "#plt.show()"
      ]
    },
    {
      "cell_type": "code",
      "execution_count": null,
      "metadata": {
        "id": "LlKr10MDyjiY"
      },
      "outputs": [],
      "source": [
        "#training_data = []\n",
        "\n",
        "#def create_training_data():\n",
        "#  for category in CATEGORIES:\n",
        "#    path = os.path.join(DATADIR, category)\n",
        "#    class_num = CATEGORIES.index(category)\n",
        "#    for img in os.listdir(path):\n",
        "#      try:\n",
        "#        img_array = cv2.imread(os.path.join(path,img), cv2.IMREAD_GRAYSCALE)\n",
        "#        new_array = cv2.resize(img_array, (IMG_SIZE, IMG_SIZE))\n",
        "#        training_data.append([new_array, class_num])\n",
        "#      except Exception as e:\n",
        "#        pass\n",
        "\n",
        "#create_training_data()"
      ]
    },
    {
      "cell_type": "code",
      "execution_count": null,
      "metadata": {
        "id": "huuRIRTi0G9_"
      },
      "outputs": [],
      "source": [
        "#import random\n",
        "#random.shuffle(training_data)"
      ]
    },
    {
      "cell_type": "code",
      "execution_count": null,
      "metadata": {
        "id": "PeF4mcPI0Pmx"
      },
      "outputs": [],
      "source": [
        "#for sample in training_data[:20]:\n",
        "#  print(sample[1])"
      ]
    },
    {
      "cell_type": "code",
      "execution_count": null,
      "metadata": {
        "id": "Im5I70Pv0uB1"
      },
      "outputs": [],
      "source": [
        "#X = []\n",
        "#y = []"
      ]
    },
    {
      "cell_type": "code",
      "execution_count": null,
      "metadata": {
        "id": "3PAW5LIw0xhr"
      },
      "outputs": [],
      "source": [
        "#for features, label in training_data:\n",
        "#  X.append(features)\n",
        "#  y.append(label)\n",
        "\n",
        "#print(type(X[0]))"
      ]
    },
    {
      "cell_type": "code",
      "execution_count": null,
      "metadata": {
        "id": "FXrEopu6Xqmq"
      },
      "outputs": [],
      "source": [
        "#X = np.array(X).reshape(-1, IMG_SIZE, IMG_SIZE, 1)"
      ]
    },
    {
      "cell_type": "code",
      "execution_count": null,
      "metadata": {
        "id": "T90WWJOL19rR"
      },
      "outputs": [],
      "source": [
        "#import pickle # saves data that was trained \n",
        "\n",
        "#pickle_out = open('X.pickle', 'wb')\n",
        "#pickle.dump(X, pickle_out)\n",
        "#pickle_out.close()\n",
        "\n",
        "#pickle_out = open('y.pickle', 'wb')\n",
        "#pickle.dump(y, pickle_out)\n",
        "#pickle_out.close()"
      ]
    },
    {
      "cell_type": "code",
      "execution_count": null,
      "metadata": {
        "id": "KW6w7wOI26-r"
      },
      "outputs": [],
      "source": [
        "#X = pickle.load(open('X.pickle', 'rb'))\n",
        "#y = pickle.load(open('y.pickle', 'rb'))\n",
        "#X_test = X/255.0"
      ]
    },
    {
      "cell_type": "code",
      "execution_count": null,
      "metadata": {
        "id": "YOcKAmX9HSMH"
      },
      "outputs": [],
      "source": [
        "x_ray_dimensions = (227, 227, 1)\n"
      ]
    },
    {
      "cell_type": "code",
      "execution_count": null,
      "metadata": {
        "id": "gLR5tbm6PEFW"
      },
      "outputs": [],
      "source": [
        "AlexNet_model = Sequential()\n",
        "#1 Convolutional layer\n",
        "AlexNet_model.add(Conv2D(filters=96, input_shape=x_ray_dimensions, kernel_size= (11, 11), strides= (4, 4), padding= 'valid'))\n",
        "AlexNet_model.add(Activation('relu'))\n",
        "#AlexNet_model.add(tf.keras.layers.LeakyReLU(alpha=0.2))\n",
        "#tf.keras.layers.LeakyReLU(alpha=0.2)\n",
        "\n",
        "#Max pooling\n",
        "AlexNet_model.add(MaxPooling2D(pool_size=(3,3), strides=(2,2), padding='valid'))\n",
        "\n",
        "#2Convolutional layer\n",
        "AlexNet_model.add(Conv2D(filters=256, kernel_size=(5,5), strides=(1,1), padding='valid'))\n",
        "AlexNet_model.add(Activation('relu'))\n",
        "#AlexNet_model.add(tf.keras.layers.LeakyReLU(alpha=0.2))\n",
        "#Max pooling\n",
        "AlexNet_model.add(MaxPooling2D(pool_size=(3,3), strides=(2,2), padding='valid'))\n",
        "#3Convolutional layer\n",
        "AlexNet_model.add(Conv2D(filters=384, kernel_size=(3,3), strides=(1,1), padding='valid'))\n",
        "AlexNet_model.add(Activation('relu'))\n",
        "#AlexNet_model.add(tf.keras.layers.LeakyReLU(alpha=0.2))\n",
        "#4Convolutional layer\n",
        "AlexNet_model.add(Conv2D(filters=384, kernel_size=(3,3), strides=(1,1), padding='valid'))\n",
        "AlexNet_model.add(Activation('relu'))\n",
        "#AlexNet_model.add(tf.keras.layers.LeakyReLU(alpha=0.2))\n",
        "#5Convolutional layer\n",
        "AlexNet_model.add(Conv2D(filters=256, kernel_size=(3,3), strides=(1,1), padding='valid'))\n",
        "AlexNet_model.add(Activation('relu'))\n",
        "#AlexNet_model.add(tf.keras.layers.LeakyReLU(alpha=0.2))\n",
        "#Max pooling\n",
        "AlexNet_model.add(MaxPooling2D(pool_size=(3,3), strides=(2,2), padding='valid'))"
      ]
    },
    {
      "cell_type": "code",
      "execution_count": null,
      "metadata": {
        "id": "MElgkKvCirFP"
      },
      "outputs": [],
      "source": [
        "#moving on to the fully connected layer\n",
        "AlexNet_model.add(Flatten())\n",
        "\n",
        "#1 connected layer\n",
        "AlexNet_model.add(Dense(4096, input_shape=(227*227*1,)))\n",
        "AlexNet_model.add(Activation('relu'))\n",
        "#AlexNet_model.add(tf.keras.layers.LeakyReLU(alpha=0.2))\n",
        "#drop out\n",
        "AlexNet_model.add(Dropout(0.4))\n",
        "\n",
        "#2 connected layer\n",
        "AlexNet_model.add(Dense(4096))\n",
        "AlexNet_model.add(Activation('relu'))\n",
        "#AlexNet_model.add(tf.keras.layers.LeakyReLU(alpha=0.2))\n",
        "#drop out\n",
        "AlexNet_model.add(Dropout(0.4))\n",
        "#output layer\n",
        "AlexNet_model.add(Dense(2))\n",
        "AlexNet_model.add(Activation('softmax'))\n",
        "\n"
      ]
    },
    {
      "cell_type": "code",
      "execution_count": null,
      "metadata": {
        "id": "La0EyM_jVIdG"
      },
      "outputs": [],
      "source": [
        "#compile AlexNet_model\n",
        "AlexNet_model.compile(\n",
        "    optimizer=keras.optimizers.Adam(),\n",
        "    loss=keras.losses.categorical_crossentropy,\n",
        "    metrics=[\"accuracy\"])\n"
      ]
    },
    {
      "cell_type": "code",
      "execution_count": null,
      "metadata": {
        "colab": {
          "base_uri": "https://localhost:8080/"
        },
        "id": "NJIhKqq1V0I3",
        "outputId": "91a74eb0-6edf-4b1e-f7ed-4ee1f5de9461"
      },
      "outputs": [
        {
          "name": "stdout",
          "output_type": "stream",
          "text": [
            "Model: \"AlexNet\"\n",
            "_________________________________________________________________\n",
            " Layer (type)                Output Shape              Param #   \n",
            "=================================================================\n",
            " conv2d (Conv2D)             (None, 55, 55, 96)        11712     \n",
            "                                                                 \n",
            " activation (Activation)     (None, 55, 55, 96)        0         \n",
            "                                                                 \n",
            " max_pooling2d (MaxPooling2D  (None, 27, 27, 96)       0         \n",
            " )                                                               \n",
            "                                                                 \n",
            " conv2d_1 (Conv2D)           (None, 23, 23, 256)       614656    \n",
            "                                                                 \n",
            " activation_1 (Activation)   (None, 23, 23, 256)       0         \n",
            "                                                                 \n",
            " max_pooling2d_1 (MaxPooling  (None, 11, 11, 256)      0         \n",
            " 2D)                                                             \n",
            "                                                                 \n",
            " conv2d_2 (Conv2D)           (None, 9, 9, 384)         885120    \n",
            "                                                                 \n",
            " activation_2 (Activation)   (None, 9, 9, 384)         0         \n",
            "                                                                 \n",
            " conv2d_3 (Conv2D)           (None, 7, 7, 384)         1327488   \n",
            "                                                                 \n",
            " activation_3 (Activation)   (None, 7, 7, 384)         0         \n",
            "                                                                 \n",
            " conv2d_4 (Conv2D)           (None, 5, 5, 256)         884992    \n",
            "                                                                 \n",
            " activation_4 (Activation)   (None, 5, 5, 256)         0         \n",
            "                                                                 \n",
            " max_pooling2d_2 (MaxPooling  (None, 2, 2, 256)        0         \n",
            " 2D)                                                             \n",
            "                                                                 \n",
            " flatten (Flatten)           (None, 1024)              0         \n",
            "                                                                 \n",
            " dense (Dense)               (None, 4096)              4198400   \n",
            "                                                                 \n",
            " activation_5 (Activation)   (None, 4096)              0         \n",
            "                                                                 \n",
            " dropout (Dropout)           (None, 4096)              0         \n",
            "                                                                 \n",
            " dense_1 (Dense)             (None, 4096)              16781312  \n",
            "                                                                 \n",
            " activation_6 (Activation)   (None, 4096)              0         \n",
            "                                                                 \n",
            " dropout_1 (Dropout)         (None, 4096)              0         \n",
            "                                                                 \n",
            " dense_2 (Dense)             (None, 2)                 8194      \n",
            "                                                                 \n",
            " activation_7 (Activation)   (None, 2)                 0         \n",
            "                                                                 \n",
            "=================================================================\n",
            "Total params: 24,711,874\n",
            "Trainable params: 24,711,874\n",
            "Non-trainable params: 0\n",
            "_________________________________________________________________\n"
          ]
        }
      ],
      "source": [
        "AlexNet_model._name=\"AlexNet\"\n",
        "AlexNet_model.summary()"
      ]
    },
    {
      "cell_type": "code",
      "execution_count": null,
      "metadata": {
        "colab": {
          "background_save": true,
          "base_uri": "https://localhost:8080/"
        },
        "id": "rgk1A8LmxAlp",
        "outputId": "ec861cab-7ec1-4d6e-9bd4-d1367aff19ff"
      },
      "outputs": [
        {
          "name": "stdout",
          "output_type": "stream",
          "text": [
            "Epoch 1/150\n",
            "5/5 - 110s - loss: 155.1196 - accuracy: 0.5559 - val_loss: 1.1924 - val_accuracy: 0.2361 - 110s/epoch - 22s/step\n",
            "Epoch 2/150\n",
            "5/5 - 34s - loss: 0.9004 - accuracy: 0.5350 - val_loss: 0.5729 - val_accuracy: 0.7639 - 34s/epoch - 7s/step\n",
            "Epoch 3/150\n",
            "5/5 - 34s - loss: 0.5923 - accuracy: 0.7406 - val_loss: 0.5520 - val_accuracy: 0.7639 - 34s/epoch - 7s/step\n",
            "Epoch 4/150\n",
            "5/5 - 34s - loss: 0.5940 - accuracy: 0.7406 - val_loss: 0.5482 - val_accuracy: 0.7639 - 34s/epoch - 7s/step\n",
            "Epoch 5/150\n",
            "5/5 - 33s - loss: 0.5776 - accuracy: 0.7406 - val_loss: 0.5444 - val_accuracy: 0.7639 - 33s/epoch - 7s/step\n",
            "Epoch 6/150\n",
            "5/5 - 33s - loss: 0.5712 - accuracy: 0.7406 - val_loss: 0.5348 - val_accuracy: 0.7639 - 33s/epoch - 7s/step\n",
            "Epoch 7/150\n",
            "5/5 - 33s - loss: 0.5675 - accuracy: 0.7406 - val_loss: 0.5155 - val_accuracy: 0.7639 - 33s/epoch - 7s/step\n",
            "Epoch 8/150\n",
            "5/5 - 34s - loss: 0.5563 - accuracy: 0.7406 - val_loss: 0.5482 - val_accuracy: 0.7639 - 34s/epoch - 7s/step\n",
            "Epoch 9/150\n",
            "5/5 - 34s - loss: 0.5281 - accuracy: 0.7406 - val_loss: 0.4405 - val_accuracy: 0.7639 - 34s/epoch - 7s/step\n",
            "Epoch 10/150\n",
            "5/5 - 33s - loss: 0.6190 - accuracy: 0.5595 - val_loss: 0.5836 - val_accuracy: 0.7639 - 33s/epoch - 7s/step\n",
            "Epoch 11/150\n",
            "5/5 - 34s - loss: 0.5829 - accuracy: 0.7406 - val_loss: 0.5282 - val_accuracy: 0.7639 - 34s/epoch - 7s/step\n",
            "Epoch 12/150\n",
            "5/5 - 33s - loss: 0.8005 - accuracy: 0.7406 - val_loss: 0.6570 - val_accuracy: 0.7639 - 33s/epoch - 7s/step\n",
            "Epoch 13/150\n",
            "5/5 - 34s - loss: 0.6144 - accuracy: 0.7357 - val_loss: 0.5542 - val_accuracy: 0.7639 - 34s/epoch - 7s/step\n",
            "Epoch 14/150\n",
            "5/5 - 33s - loss: 0.5852 - accuracy: 0.7406 - val_loss: 0.5521 - val_accuracy: 0.7639 - 33s/epoch - 7s/step\n",
            "Epoch 15/150\n",
            "5/5 - 33s - loss: 0.5823 - accuracy: 0.7406 - val_loss: 0.5480 - val_accuracy: 0.7639 - 33s/epoch - 7s/step\n",
            "Epoch 16/150\n",
            "5/5 - 34s - loss: 0.5784 - accuracy: 0.7406 - val_loss: 0.5452 - val_accuracy: 0.7639 - 34s/epoch - 7s/step\n",
            "Epoch 17/150\n",
            "5/5 - 34s - loss: 0.5737 - accuracy: 0.7406 - val_loss: 0.5408 - val_accuracy: 0.7639 - 34s/epoch - 7s/step\n",
            "Epoch 18/150\n",
            "5/5 - 34s - loss: 0.5677 - accuracy: 0.7406 - val_loss: 0.5353 - val_accuracy: 0.7639 - 34s/epoch - 7s/step\n",
            "Epoch 19/150\n",
            "5/5 - 34s - loss: 0.5538 - accuracy: 0.7406 - val_loss: 0.5025 - val_accuracy: 0.7639 - 34s/epoch - 7s/step\n",
            "Epoch 20/150\n",
            "5/5 - 35s - loss: 0.5907 - accuracy: 0.7406 - val_loss: 0.5558 - val_accuracy: 0.7639 - 35s/epoch - 7s/step\n",
            "Epoch 21/150\n",
            "5/5 - 35s - loss: 0.5573 - accuracy: 0.7406 - val_loss: 0.5240 - val_accuracy: 0.7639 - 35s/epoch - 7s/step\n",
            "Epoch 22/150\n",
            "5/5 - 36s - loss: 0.5278 - accuracy: 0.7442 - val_loss: 0.4082 - val_accuracy: 0.8541 - 36s/epoch - 7s/step\n",
            "Epoch 23/150\n",
            "5/5 - 35s - loss: 0.7353 - accuracy: 0.7497 - val_loss: 0.6680 - val_accuracy: 0.7639 - 35s/epoch - 7s/step\n",
            "Epoch 24/150\n",
            "5/5 - 36s - loss: 0.6786 - accuracy: 0.7580 - val_loss: 0.6783 - val_accuracy: 0.7812 - 36s/epoch - 7s/step\n",
            "Epoch 25/150\n",
            "5/5 - 35s - loss: 0.6779 - accuracy: 0.7476 - val_loss: 0.6688 - val_accuracy: 0.7639 - 35s/epoch - 7s/step\n",
            "Epoch 26/150\n",
            "5/5 - 36s - loss: 0.6553 - accuracy: 0.7406 - val_loss: 0.5757 - val_accuracy: 0.7639 - 36s/epoch - 7s/step\n",
            "Epoch 27/150\n",
            "5/5 - 36s - loss: 0.5842 - accuracy: 0.7406 - val_loss: 0.5428 - val_accuracy: 0.7639 - 36s/epoch - 7s/step\n",
            "Epoch 28/150\n",
            "5/5 - 36s - loss: 0.5747 - accuracy: 0.7406 - val_loss: 0.5070 - val_accuracy: 0.7639 - 36s/epoch - 7s/step\n",
            "Epoch 29/150\n",
            "5/5 - 36s - loss: 0.5375 - accuracy: 0.7406 - val_loss: 0.4853 - val_accuracy: 0.7639 - 36s/epoch - 7s/step\n",
            "Epoch 30/150\n",
            "5/5 - 36s - loss: 0.4965 - accuracy: 0.7406 - val_loss: 0.3953 - val_accuracy: 0.7831 - 36s/epoch - 7s/step\n",
            "Epoch 31/150\n",
            "5/5 - 35s - loss: 0.7257 - accuracy: 0.7095 - val_loss: 0.5366 - val_accuracy: 0.7639 - 35s/epoch - 7s/step\n",
            "Epoch 32/150\n",
            "5/5 - 35s - loss: 0.5934 - accuracy: 0.7406 - val_loss: 0.5879 - val_accuracy: 0.7639 - 35s/epoch - 7s/step\n",
            "Epoch 33/150\n",
            "5/5 - 34s - loss: 0.5879 - accuracy: 0.7406 - val_loss: 0.5326 - val_accuracy: 0.7639 - 34s/epoch - 7s/step\n",
            "Epoch 34/150\n",
            "5/5 - 34s - loss: 0.5655 - accuracy: 0.7406 - val_loss: 0.4872 - val_accuracy: 0.7639 - 34s/epoch - 7s/step\n",
            "Epoch 35/150\n",
            "5/5 - 34s - loss: 0.6167 - accuracy: 0.7404 - val_loss: 0.5522 - val_accuracy: 0.7639 - 34s/epoch - 7s/step\n",
            "Epoch 36/150\n",
            "5/5 - 34s - loss: 0.6094 - accuracy: 0.7389 - val_loss: 0.5528 - val_accuracy: 0.7639 - 34s/epoch - 7s/step\n",
            "Epoch 37/150\n",
            "5/5 - 34s - loss: 0.6004 - accuracy: 0.7406 - val_loss: 0.5965 - val_accuracy: 0.7639 - 34s/epoch - 7s/step\n",
            "Epoch 38/150\n",
            "5/5 - 34s - loss: 0.5911 - accuracy: 0.7406 - val_loss: 0.5625 - val_accuracy: 0.7639 - 34s/epoch - 7s/step\n",
            "Epoch 39/150\n",
            "5/5 - 34s - loss: 0.5843 - accuracy: 0.7406 - val_loss: 0.5669 - val_accuracy: 0.7639 - 34s/epoch - 7s/step\n",
            "Epoch 40/150\n",
            "5/5 - 34s - loss: 0.5817 - accuracy: 0.7406 - val_loss: 0.5434 - val_accuracy: 0.7639 - 34s/epoch - 7s/step\n",
            "Epoch 41/150\n",
            "5/5 - 34s - loss: 0.5861 - accuracy: 0.7406 - val_loss: 0.5472 - val_accuracy: 0.7639 - 34s/epoch - 7s/step\n",
            "Epoch 42/150\n",
            "5/5 - 34s - loss: 0.5806 - accuracy: 0.7406 - val_loss: 0.5643 - val_accuracy: 0.7639 - 34s/epoch - 7s/step\n",
            "Epoch 43/150\n",
            "5/5 - 34s - loss: 0.5739 - accuracy: 0.7406 - val_loss: 0.5515 - val_accuracy: 0.7639 - 34s/epoch - 7s/step\n",
            "Epoch 44/150\n",
            "5/5 - 34s - loss: 0.5811 - accuracy: 0.7406 - val_loss: 0.5344 - val_accuracy: 0.7639 - 34s/epoch - 7s/step\n",
            "Epoch 45/150\n",
            "5/5 - 34s - loss: 0.5840 - accuracy: 0.7406 - val_loss: 0.5504 - val_accuracy: 0.7639 - 34s/epoch - 7s/step\n",
            "Epoch 46/150\n",
            "5/5 - 34s - loss: 0.5799 - accuracy: 0.7406 - val_loss: 0.5494 - val_accuracy: 0.7639 - 34s/epoch - 7s/step\n",
            "Epoch 47/150\n",
            "5/5 - 34s - loss: 0.5678 - accuracy: 0.7406 - val_loss: 0.5443 - val_accuracy: 0.7639 - 34s/epoch - 7s/step\n",
            "Epoch 48/150\n",
            "5/5 - 34s - loss: 0.5544 - accuracy: 0.7406 - val_loss: 0.5315 - val_accuracy: 0.7639 - 34s/epoch - 7s/step\n",
            "Epoch 49/150\n",
            "5/5 - 34s - loss: 0.5343 - accuracy: 0.7463 - val_loss: 1.4366 - val_accuracy: 0.2841 - 34s/epoch - 7s/step\n",
            "Epoch 50/150\n",
            "5/5 - 34s - loss: 1.0743 - accuracy: 0.6319 - val_loss: 0.6605 - val_accuracy: 0.7639 - 34s/epoch - 7s/step\n",
            "Epoch 51/150\n",
            "5/5 - 34s - loss: 0.6513 - accuracy: 0.7406 - val_loss: 0.6045 - val_accuracy: 0.7639 - 34s/epoch - 7s/step\n",
            "Epoch 52/150\n",
            "5/5 - 34s - loss: 0.6183 - accuracy: 0.7406 - val_loss: 0.5785 - val_accuracy: 0.7639 - 34s/epoch - 7s/step\n",
            "Epoch 53/150\n",
            "5/5 - 34s - loss: 0.5916 - accuracy: 0.7406 - val_loss: 0.5539 - val_accuracy: 0.7639 - 34s/epoch - 7s/step\n",
            "Epoch 54/150\n",
            "5/5 - 34s - loss: 0.5869 - accuracy: 0.7406 - val_loss: 0.5440 - val_accuracy: 0.7639 - 34s/epoch - 7s/step\n",
            "Epoch 55/150\n",
            "5/5 - 34s - loss: 0.5872 - accuracy: 0.7406 - val_loss: 0.5658 - val_accuracy: 0.7639 - 34s/epoch - 7s/step\n",
            "Epoch 56/150\n",
            "5/5 - 34s - loss: 0.5750 - accuracy: 0.7406 - val_loss: 0.5336 - val_accuracy: 0.7639 - 34s/epoch - 7s/step\n",
            "Epoch 57/150\n",
            "5/5 - 34s - loss: 0.5652 - accuracy: 0.7406 - val_loss: 0.5259 - val_accuracy: 0.7639 - 34s/epoch - 7s/step\n",
            "Epoch 58/150\n",
            "5/5 - 34s - loss: 0.5512 - accuracy: 0.7406 - val_loss: 0.4958 - val_accuracy: 0.7639 - 34s/epoch - 7s/step\n",
            "Epoch 59/150\n",
            "5/5 - 34s - loss: 0.5573 - accuracy: 0.7406 - val_loss: 0.5852 - val_accuracy: 0.7639 - 34s/epoch - 7s/step\n",
            "Epoch 60/150\n",
            "5/5 - 34s - loss: 0.9675 - accuracy: 0.7399 - val_loss: 0.6168 - val_accuracy: 0.7639 - 34s/epoch - 7s/step\n",
            "Epoch 61/150\n",
            "5/5 - 34s - loss: 0.6380 - accuracy: 0.7171 - val_loss: 0.6300 - val_accuracy: 0.7639 - 34s/epoch - 7s/step\n",
            "Epoch 62/150\n",
            "5/5 - 34s - loss: 0.6293 - accuracy: 0.7406 - val_loss: 0.5726 - val_accuracy: 0.7639 - 34s/epoch - 7s/step\n",
            "Epoch 63/150\n",
            "5/5 - 34s - loss: 0.5814 - accuracy: 0.7406 - val_loss: 0.5369 - val_accuracy: 0.7639 - 34s/epoch - 7s/step\n",
            "Epoch 64/150\n",
            "5/5 - 34s - loss: 0.5722 - accuracy: 0.7406 - val_loss: 0.6088 - val_accuracy: 0.7639 - 34s/epoch - 7s/step\n",
            "Epoch 65/150\n",
            "5/5 - 34s - loss: 0.6338 - accuracy: 0.7384 - val_loss: 0.5723 - val_accuracy: 0.7639 - 34s/epoch - 7s/step\n",
            "Epoch 66/150\n",
            "5/5 - 34s - loss: 0.6198 - accuracy: 0.7348 - val_loss: 0.5670 - val_accuracy: 0.7639 - 34s/epoch - 7s/step\n",
            "Epoch 67/150\n",
            "5/5 - 34s - loss: 0.6075 - accuracy: 0.7406 - val_loss: 0.5685 - val_accuracy: 0.7639 - 34s/epoch - 7s/step\n",
            "Epoch 68/150\n",
            "5/5 - 34s - loss: 0.5923 - accuracy: 0.7406 - val_loss: 0.5630 - val_accuracy: 0.7639 - 34s/epoch - 7s/step\n",
            "Epoch 69/150\n",
            "5/5 - 34s - loss: 0.5942 - accuracy: 0.7406 - val_loss: 0.5681 - val_accuracy: 0.7639 - 34s/epoch - 7s/step\n",
            "Epoch 70/150\n",
            "5/5 - 34s - loss: 0.5881 - accuracy: 0.7406 - val_loss: 0.5511 - val_accuracy: 0.7639 - 34s/epoch - 7s/step\n",
            "Epoch 71/150\n",
            "5/5 - 34s - loss: 0.5691 - accuracy: 0.7406 - val_loss: 0.5684 - val_accuracy: 0.7639 - 34s/epoch - 7s/step\n",
            "Epoch 72/150\n",
            "5/5 - 34s - loss: 0.5560 - accuracy: 0.7487 - val_loss: 0.6310 - val_accuracy: 0.7639 - 34s/epoch - 7s/step\n",
            "Epoch 73/150\n",
            "5/5 - 34s - loss: 0.8283 - accuracy: 0.6358 - val_loss: 0.5537 - val_accuracy: 0.7639 - 34s/epoch - 7s/step\n",
            "Epoch 74/150\n",
            "5/5 - 34s - loss: 0.5952 - accuracy: 0.7406 - val_loss: 0.6123 - val_accuracy: 0.7639 - 34s/epoch - 7s/step\n",
            "Epoch 75/150\n",
            "5/5 - 35s - loss: 0.6035 - accuracy: 0.7406 - val_loss: 0.5878 - val_accuracy: 0.7639 - 35s/epoch - 7s/step\n",
            "Epoch 76/150\n",
            "5/5 - 33s - loss: 0.6023 - accuracy: 0.7406 - val_loss: 0.5576 - val_accuracy: 0.7639 - 33s/epoch - 7s/step\n",
            "Epoch 77/150\n",
            "5/5 - 33s - loss: 0.6349 - accuracy: 0.7367 - val_loss: 0.5534 - val_accuracy: 0.7639 - 33s/epoch - 7s/step\n",
            "Epoch 78/150\n",
            "5/5 - 33s - loss: 0.6041 - accuracy: 0.7408 - val_loss: 0.5629 - val_accuracy: 0.7639 - 33s/epoch - 7s/step\n",
            "Epoch 79/150\n",
            "5/5 - 33s - loss: 0.5925 - accuracy: 0.7393 - val_loss: 0.5782 - val_accuracy: 0.7639 - 33s/epoch - 7s/step\n",
            "Epoch 80/150\n",
            "5/5 - 33s - loss: 0.5941 - accuracy: 0.7380 - val_loss: 0.5590 - val_accuracy: 0.7639 - 33s/epoch - 7s/step\n",
            "Epoch 81/150\n",
            "5/5 - 33s - loss: 0.5818 - accuracy: 0.7406 - val_loss: 0.5489 - val_accuracy: 0.7639 - 33s/epoch - 7s/step\n",
            "Epoch 82/150\n",
            "5/5 - 33s - loss: 0.6072 - accuracy: 0.7404 - val_loss: 0.5871 - val_accuracy: 0.7639 - 33s/epoch - 7s/step\n",
            "Epoch 83/150\n",
            "5/5 - 33s - loss: 0.5884 - accuracy: 0.7406 - val_loss: 0.5662 - val_accuracy: 0.7639 - 33s/epoch - 7s/step\n",
            "Epoch 84/150\n",
            "5/5 - 33s - loss: 0.5826 - accuracy: 0.7406 - val_loss: 0.5546 - val_accuracy: 0.7639 - 33s/epoch - 7s/step\n",
            "Epoch 85/150\n",
            "5/5 - 33s - loss: 0.5790 - accuracy: 0.7406 - val_loss: 0.5428 - val_accuracy: 0.7639 - 33s/epoch - 7s/step\n",
            "Epoch 86/150\n",
            "5/5 - 33s - loss: 0.5800 - accuracy: 0.7406 - val_loss: 0.5382 - val_accuracy: 0.7639 - 33s/epoch - 7s/step\n",
            "Epoch 87/150\n",
            "5/5 - 33s - loss: 0.5771 - accuracy: 0.7406 - val_loss: 0.5392 - val_accuracy: 0.7639 - 33s/epoch - 7s/step\n",
            "Epoch 88/150\n",
            "5/5 - 33s - loss: 0.5609 - accuracy: 0.7406 - val_loss: 0.5166 - val_accuracy: 0.7639 - 33s/epoch - 7s/step\n",
            "Epoch 89/150\n",
            "5/5 - 33s - loss: 0.5621 - accuracy: 0.7406 - val_loss: 0.5110 - val_accuracy: 0.7639 - 33s/epoch - 7s/step\n",
            "Epoch 90/150\n",
            "5/5 - 33s - loss: 0.5518 - accuracy: 0.7410 - val_loss: 0.5236 - val_accuracy: 0.7639 - 33s/epoch - 7s/step\n",
            "Epoch 91/150\n",
            "5/5 - 33s - loss: 0.5530 - accuracy: 0.7576 - val_loss: 0.5454 - val_accuracy: 0.7639 - 33s/epoch - 7s/step\n",
            "Epoch 92/150\n",
            "5/5 - 33s - loss: 0.5693 - accuracy: 0.7406 - val_loss: 0.5116 - val_accuracy: 0.7639 - 33s/epoch - 7s/step\n",
            "Epoch 93/150\n",
            "5/5 - 33s - loss: 0.5243 - accuracy: 0.7427 - val_loss: 0.3932 - val_accuracy: 0.8426 - 33s/epoch - 7s/step\n",
            "Epoch 94/150\n",
            "5/5 - 33s - loss: 0.7770 - accuracy: 0.7717 - val_loss: 0.6028 - val_accuracy: 0.7639 - 33s/epoch - 7s/step\n",
            "Epoch 95/150\n",
            "5/5 - 32s - loss: 0.6317 - accuracy: 0.7406 - val_loss: 0.6335 - val_accuracy: 0.7639 - 32s/epoch - 6s/step\n",
            "Epoch 96/150\n",
            "5/5 - 33s - loss: 0.6227 - accuracy: 0.7404 - val_loss: 0.5760 - val_accuracy: 0.7639 - 33s/epoch - 7s/step\n",
            "Epoch 97/150\n",
            "5/5 - 32s - loss: 0.6255 - accuracy: 0.7404 - val_loss: 0.5943 - val_accuracy: 0.7639 - 32s/epoch - 6s/step\n",
            "Epoch 98/150\n",
            "5/5 - 33s - loss: 0.5923 - accuracy: 0.7406 - val_loss: 0.5737 - val_accuracy: 0.7639 - 33s/epoch - 7s/step\n",
            "Epoch 99/150\n",
            "5/5 - 33s - loss: 0.5852 - accuracy: 0.7406 - val_loss: 0.5612 - val_accuracy: 0.7639 - 33s/epoch - 7s/step\n",
            "Epoch 100/150\n",
            "5/5 - 33s - loss: 0.5680 - accuracy: 0.7406 - val_loss: 0.5959 - val_accuracy: 0.7639 - 33s/epoch - 7s/step\n",
            "Epoch 101/150\n",
            "5/5 - 33s - loss: 0.5956 - accuracy: 0.7406 - val_loss: 0.5406 - val_accuracy: 0.7639 - 33s/epoch - 7s/step\n",
            "Epoch 102/150\n",
            "5/5 - 33s - loss: 0.5722 - accuracy: 0.7406 - val_loss: 0.5471 - val_accuracy: 0.7639 - 33s/epoch - 7s/step\n",
            "Epoch 103/150\n",
            "5/5 - 33s - loss: 0.5536 - accuracy: 0.7406 - val_loss: 0.4656 - val_accuracy: 0.7639 - 33s/epoch - 7s/step\n",
            "Epoch 104/150\n",
            "5/5 - 33s - loss: 0.7121 - accuracy: 0.7406 - val_loss: 0.5474 - val_accuracy: 0.7639 - 33s/epoch - 7s/step\n",
            "Epoch 105/150\n"
          ]
        }
      ],
      "source": [
        "AlexNet_model.fit(train_ds, epochs = 150, verbose=2, validation_data = validation_ds) \n",
        "#AlexNet_model.fit(train_generator, epochs = 100, verbose = 2, validation_data=validation_generator)"
      ]
    },
    {
      "cell_type": "code",
      "execution_count": null,
      "metadata": {
        "colab": {
          "base_uri": "https://localhost:8080/"
        },
        "id": "4WsPJmduNe2b",
        "outputId": "7a343413-2c02-4d70-8721-3b9250ad0a60"
      },
      "outputs": [
        {
          "name": "stdout",
          "output_type": "stream",
          "text": [
            "1/1 [==============================] - 1s 956ms/step - loss: 0.1351 - accuracy: 0.9635\n",
            "36/36 [==============================] - 7s 182ms/step - loss: 0.0242 - accuracy: 0.9908\n"
          ]
        }
      ],
      "source": [
        "validation_metrics = AlexNet_model.evaluate(validation_ds)\n",
        "test_metrics = AlexNet_model.evaluate(test_ds)"
      ]
    },
    {
      "cell_type": "code",
      "execution_count": null,
      "metadata": {
        "id": "B_0YqxzNV4LN"
      },
      "outputs": [],
      "source": [
        "\n",
        "ZFnet_model = Sequential()\n",
        "#1 Convolutional layer\n",
        "ZFnet_model.add(Conv2D(filters=96, input_shape=x_ray_dimensions, kernel_size= (7, 7), strides= (2, 2), padding= 'valid'))\n",
        "ZFnet_model.add(Activation('relu'))\n",
        "#ZFnet_model.add(tf.keras.layers.LeakyReLU(alpha=0.2))\n",
        "#tf.keras.layers.LeakyReLU(alpha=0.2)\n",
        "\n",
        "#Max pooling\n",
        "ZFnet_model.add(MaxPooling2D(pool_size=(3,3), strides=(2,2), padding='valid'))\n",
        "\n",
        "#2Convolutional layer\n",
        "ZFnet_model.add(Conv2D(filters=256, kernel_size=(5,5), strides=(1,1), padding='valid'))\n",
        "ZFnet_model.add(Activation('relu'))\n",
        "#ZFnet_model.add(tf.keras.layers.LeakyReLU(alpha=0.2))\n",
        "#Max pooling\n",
        "ZFnet_model.add(MaxPooling2D(pool_size=(3,3), strides=(2,2), padding='valid'))\n",
        "#3Convolutional layer\n",
        "ZFnet_model.add(Conv2D(filters=512, kernel_size=(3,3), strides=(1,1), padding='valid'))\n",
        "ZFnet_model.add(Activation('relu'))\n",
        "#ZFnet_model.add(tf.keras.layers.LeakyReLU(alpha=0.2))\n",
        "#4Convolutional layer\n",
        "ZFnet_model.add(Conv2D(filters=1024, kernel_size=(3,3), strides=(1,1), padding='valid'))\n",
        "ZFnet_model.add(Activation('relu'))\n",
        "#ZFnet_model.add(tf.keras.layers.LeakyReLU(alpha=0.2))\n",
        "#5Convolutional layer\n",
        "ZFnet_model.add(Conv2D(filters=512, kernel_size=(3,3), strides=(1,1), padding='valid'))\n",
        "ZFnet_model.add(Activation('relu'))\n",
        "#ZFnet_model.add(tf.keras.layers.LeakyReLU(alpha=0.2))\n",
        "#Max pooling\n",
        "ZFnet_model.add(MaxPooling2D(pool_size=(3,3), strides=(2,2), padding='valid'))"
      ]
    },
    {
      "cell_type": "code",
      "execution_count": null,
      "metadata": {
        "id": "nTpu5jOUAzi-"
      },
      "outputs": [],
      "source": [
        "##TODO! ! ! Make this into a ZFnet Model\n",
        "#moving on to the fully connected layer\n",
        "ZFnet_model.add(Flatten())\n",
        "\n",
        "#1 connected layer\n",
        "ZFnet_model.add(Dense(4096, input_shape=(227*227*1,)))\n",
        "ZFnet_model.add(Activation('relu'))\n",
        "#ZFnet_model.add(tf.keras.layers.LeakyReLU(alpha=0.2))\n",
        "#drop out\n",
        "ZFnet_model.add(Dropout(0.4))\n",
        "\n",
        "#2 connected layer\n",
        "ZFnet_model.add(Dense(4096))\n",
        "ZFnet_model.add(Activation('relu'))\n",
        "#ZFnet_model.add(tf.keras.layers.LeakyReLU(alpha=0.2))\n",
        "#drop out\n",
        "ZFnet_model.add(Dropout(0.4))\n",
        "#output layer\n",
        "ZFnet_model.add(Dense(2))\n",
        "ZFnet_model.add(Activation('softmax'))"
      ]
    },
    {
      "cell_type": "code",
      "execution_count": null,
      "metadata": {
        "id": "ob9xOLnIA9Xl"
      },
      "outputs": [],
      "source": [
        "#compile ZFnet_model\n",
        "ZFnet_model.compile(\n",
        "    optimizer=keras.optimizers.Adam(),\n",
        "    loss=keras.losses.categorical_crossentropy,\n",
        "    metrics=[\"accuracy\"])"
      ]
    },
    {
      "cell_type": "code",
      "execution_count": null,
      "metadata": {
        "colab": {
          "base_uri": "https://localhost:8080/"
        },
        "id": "AAl0hx5iBERc",
        "outputId": "01d15857-21ec-40bc-9766-cfd38cb3e706"
      },
      "outputs": [
        {
          "name": "stdout",
          "output_type": "stream",
          "text": [
            "Model: \"ZFnet\"\n",
            "_________________________________________________________________\n",
            " Layer (type)                Output Shape              Param #   \n",
            "=================================================================\n",
            " conv2d_5 (Conv2D)           (None, 111, 111, 96)      4800      \n",
            "                                                                 \n",
            " activation_8 (Activation)   (None, 111, 111, 96)      0         \n",
            "                                                                 \n",
            " max_pooling2d_3 (MaxPooling  (None, 55, 55, 96)       0         \n",
            " 2D)                                                             \n",
            "                                                                 \n",
            " conv2d_6 (Conv2D)           (None, 51, 51, 256)       614656    \n",
            "                                                                 \n",
            " activation_9 (Activation)   (None, 51, 51, 256)       0         \n",
            "                                                                 \n",
            " max_pooling2d_4 (MaxPooling  (None, 25, 25, 256)      0         \n",
            " 2D)                                                             \n",
            "                                                                 \n",
            " conv2d_7 (Conv2D)           (None, 23, 23, 512)       1180160   \n",
            "                                                                 \n",
            " activation_10 (Activation)  (None, 23, 23, 512)       0         \n",
            "                                                                 \n",
            " conv2d_8 (Conv2D)           (None, 21, 21, 1024)      4719616   \n",
            "                                                                 \n",
            " activation_11 (Activation)  (None, 21, 21, 1024)      0         \n",
            "                                                                 \n",
            " conv2d_9 (Conv2D)           (None, 19, 19, 512)       4719104   \n",
            "                                                                 \n",
            " activation_12 (Activation)  (None, 19, 19, 512)       0         \n",
            "                                                                 \n",
            " max_pooling2d_5 (MaxPooling  (None, 9, 9, 512)        0         \n",
            " 2D)                                                             \n",
            "                                                                 \n",
            " flatten_1 (Flatten)         (None, 41472)             0         \n",
            "                                                                 \n",
            " dense_3 (Dense)             (None, 4096)              169873408 \n",
            "                                                                 \n",
            " activation_13 (Activation)  (None, 4096)              0         \n",
            "                                                                 \n",
            " dropout_2 (Dropout)         (None, 4096)              0         \n",
            "                                                                 \n",
            " dense_4 (Dense)             (None, 4096)              16781312  \n",
            "                                                                 \n",
            " activation_14 (Activation)  (None, 4096)              0         \n",
            "                                                                 \n",
            " dropout_3 (Dropout)         (None, 4096)              0         \n",
            "                                                                 \n",
            " dense_5 (Dense)             (None, 2)                 8194      \n",
            "                                                                 \n",
            " activation_15 (Activation)  (None, 2)                 0         \n",
            "                                                                 \n",
            "=================================================================\n",
            "Total params: 197,901,250\n",
            "Trainable params: 197,901,250\n",
            "Non-trainable params: 0\n",
            "_________________________________________________________________\n"
          ]
        }
      ],
      "source": [
        "ZFnet_model._name=\"ZFnet\"\n",
        "ZFnet_model.summary()"
      ]
    },
    {
      "cell_type": "code",
      "execution_count": null,
      "metadata": {
        "colab": {
          "base_uri": "https://localhost:8080/",
          "height": 1000
        },
        "id": "_qVGdJtBBJYM",
        "outputId": "a374351b-6c87-422a-89a3-7184467be67c"
      },
      "outputs": [
        {
          "name": "stdout",
          "output_type": "stream",
          "text": [
            "Epoch 1/150\n"
          ]
        },
        {
          "ename": "ResourceExhaustedError",
          "evalue": "ignored",
          "output_type": "error",
          "traceback": [
            "\u001b[0;31m---------------------------------------------------------------------------\u001b[0m",
            "\u001b[0;31mResourceExhaustedError\u001b[0m                    Traceback (most recent call last)",
            "\u001b[0;32m<ipython-input-18-fee9e9e6340a>\u001b[0m in \u001b[0;36m<module>\u001b[0;34m()\u001b[0m\n\u001b[1;32m      1\u001b[0m \u001b[0;31m#batch_size 32 with epoch 100 is best with a dataset of ~2000\u001b[0m\u001b[0;34m\u001b[0m\u001b[0;34m\u001b[0m\u001b[0;34m\u001b[0m\u001b[0m\n\u001b[1;32m      2\u001b[0m \u001b[0;31m#batch_size 532 with epoch 80 seems pretty good with a dataset of ~5000\u001b[0m\u001b[0;34m\u001b[0m\u001b[0;34m\u001b[0m\u001b[0;34m\u001b[0m\u001b[0m\n\u001b[0;32m----> 3\u001b[0;31m \u001b[0mZFnet_model\u001b[0m\u001b[0;34m.\u001b[0m\u001b[0mfit\u001b[0m\u001b[0;34m(\u001b[0m\u001b[0mtrain_ds\u001b[0m\u001b[0;34m,\u001b[0m \u001b[0mepochs\u001b[0m \u001b[0;34m=\u001b[0m \u001b[0;36m150\u001b[0m\u001b[0;34m,\u001b[0m \u001b[0mverbose\u001b[0m\u001b[0;34m=\u001b[0m\u001b[0;36m2\u001b[0m\u001b[0;34m,\u001b[0m \u001b[0mvalidation_data\u001b[0m \u001b[0;34m=\u001b[0m \u001b[0mvalidation_ds\u001b[0m\u001b[0;34m)\u001b[0m\u001b[0;34m\u001b[0m\u001b[0;34m\u001b[0m\u001b[0m\n\u001b[0m",
            "\u001b[0;32m/usr/local/lib/python3.7/dist-packages/keras/utils/traceback_utils.py\u001b[0m in \u001b[0;36merror_handler\u001b[0;34m(*args, **kwargs)\u001b[0m\n\u001b[1;32m     65\u001b[0m     \u001b[0;32mexcept\u001b[0m \u001b[0mException\u001b[0m \u001b[0;32mas\u001b[0m \u001b[0me\u001b[0m\u001b[0;34m:\u001b[0m  \u001b[0;31m# pylint: disable=broad-except\u001b[0m\u001b[0;34m\u001b[0m\u001b[0;34m\u001b[0m\u001b[0m\n\u001b[1;32m     66\u001b[0m       \u001b[0mfiltered_tb\u001b[0m \u001b[0;34m=\u001b[0m \u001b[0m_process_traceback_frames\u001b[0m\u001b[0;34m(\u001b[0m\u001b[0me\u001b[0m\u001b[0;34m.\u001b[0m\u001b[0m__traceback__\u001b[0m\u001b[0;34m)\u001b[0m\u001b[0;34m\u001b[0m\u001b[0;34m\u001b[0m\u001b[0m\n\u001b[0;32m---> 67\u001b[0;31m       \u001b[0;32mraise\u001b[0m \u001b[0me\u001b[0m\u001b[0;34m.\u001b[0m\u001b[0mwith_traceback\u001b[0m\u001b[0;34m(\u001b[0m\u001b[0mfiltered_tb\u001b[0m\u001b[0;34m)\u001b[0m \u001b[0;32mfrom\u001b[0m \u001b[0;32mNone\u001b[0m\u001b[0;34m\u001b[0m\u001b[0;34m\u001b[0m\u001b[0m\n\u001b[0m\u001b[1;32m     68\u001b[0m     \u001b[0;32mfinally\u001b[0m\u001b[0;34m:\u001b[0m\u001b[0;34m\u001b[0m\u001b[0;34m\u001b[0m\u001b[0m\n\u001b[1;32m     69\u001b[0m       \u001b[0;32mdel\u001b[0m \u001b[0mfiltered_tb\u001b[0m\u001b[0;34m\u001b[0m\u001b[0;34m\u001b[0m\u001b[0m\n",
            "\u001b[0;32m/usr/local/lib/python3.7/dist-packages/tensorflow/python/eager/execute.py\u001b[0m in \u001b[0;36mquick_execute\u001b[0;34m(op_name, num_outputs, inputs, attrs, ctx, name)\u001b[0m\n\u001b[1;32m     57\u001b[0m     \u001b[0mctx\u001b[0m\u001b[0;34m.\u001b[0m\u001b[0mensure_initialized\u001b[0m\u001b[0;34m(\u001b[0m\u001b[0;34m)\u001b[0m\u001b[0;34m\u001b[0m\u001b[0;34m\u001b[0m\u001b[0m\n\u001b[1;32m     58\u001b[0m     tensors = pywrap_tfe.TFE_Py_Execute(ctx._handle, device_name, op_name,\n\u001b[0;32m---> 59\u001b[0;31m                                         inputs, attrs, num_outputs)\n\u001b[0m\u001b[1;32m     60\u001b[0m   \u001b[0;32mexcept\u001b[0m \u001b[0mcore\u001b[0m\u001b[0;34m.\u001b[0m\u001b[0m_NotOkStatusException\u001b[0m \u001b[0;32mas\u001b[0m \u001b[0me\u001b[0m\u001b[0;34m:\u001b[0m\u001b[0;34m\u001b[0m\u001b[0;34m\u001b[0m\u001b[0m\n\u001b[1;32m     61\u001b[0m     \u001b[0;32mif\u001b[0m \u001b[0mname\u001b[0m \u001b[0;32mis\u001b[0m \u001b[0;32mnot\u001b[0m \u001b[0;32mNone\u001b[0m\u001b[0;34m:\u001b[0m\u001b[0;34m\u001b[0m\u001b[0;34m\u001b[0m\u001b[0m\n",
            "\u001b[0;31mResourceExhaustedError\u001b[0m:  OOM when allocating tensor with shape[1032,1024,21,21] and type float on /job:localhost/replica:0/task:0/device:GPU:0 by allocator GPU_0_bfc\n\t [[node ZFnet/activation_11/Relu\n (defined at /usr/local/lib/python3.7/dist-packages/keras/backend.py:4867)\n]]\nHint: If you want to see a list of allocated tensors when OOM happens, add report_tensor_allocations_upon_oom to RunOptions for current allocation info. This isn't available when running in Eager mode.\n [Op:__inference_train_function_1633]\n\nErrors may have originated from an input operation.\nInput Source operations connected to node ZFnet/activation_11/Relu:\nIn[0] ZFnet/conv2d_8/BiasAdd (defined at /usr/local/lib/python3.7/dist-packages/keras/layers/convolutional.py:265)\n\nOperation defined at: (most recent call last)\n>>>   File \"/usr/lib/python3.7/runpy.py\", line 193, in _run_module_as_main\n>>>     \"__main__\", mod_spec)\n>>> \n>>>   File \"/usr/lib/python3.7/runpy.py\", line 85, in _run_code\n>>>     exec(code, run_globals)\n>>> \n>>>   File \"/usr/local/lib/python3.7/dist-packages/ipykernel_launcher.py\", line 16, in <module>\n>>>     app.launch_new_instance()\n>>> \n>>>   File \"/usr/local/lib/python3.7/dist-packages/traitlets/config/application.py\", line 846, in launch_instance\n>>>     app.start()\n>>> \n>>>   File \"/usr/local/lib/python3.7/dist-packages/ipykernel/kernelapp.py\", line 499, in start\n>>>     self.io_loop.start()\n>>> \n>>>   File \"/usr/local/lib/python3.7/dist-packages/tornado/platform/asyncio.py\", line 132, in start\n>>>     self.asyncio_loop.run_forever()\n>>> \n>>>   File \"/usr/lib/python3.7/asyncio/base_events.py\", line 541, in run_forever\n>>>     self._run_once()\n>>> \n>>>   File \"/usr/lib/python3.7/asyncio/base_events.py\", line 1786, in _run_once\n>>>     handle._run()\n>>> \n>>>   File \"/usr/lib/python3.7/asyncio/events.py\", line 88, in _run\n>>>     self._context.run(self._callback, *self._args)\n>>> \n>>>   File \"/usr/local/lib/python3.7/dist-packages/tornado/platform/asyncio.py\", line 122, in _handle_events\n>>>     handler_func(fileobj, events)\n>>> \n>>>   File \"/usr/local/lib/python3.7/dist-packages/tornado/stack_context.py\", line 300, in null_wrapper\n>>>     return fn(*args, **kwargs)\n>>> \n>>>   File \"/usr/local/lib/python3.7/dist-packages/zmq/eventloop/zmqstream.py\", line 452, in _handle_events\n>>>     self._handle_recv()\n>>> \n>>>   File \"/usr/local/lib/python3.7/dist-packages/zmq/eventloop/zmqstream.py\", line 481, in _handle_recv\n>>>     self._run_callback(callback, msg)\n>>> \n>>>   File \"/usr/local/lib/python3.7/dist-packages/zmq/eventloop/zmqstream.py\", line 431, in _run_callback\n>>>     callback(*args, **kwargs)\n>>> \n>>>   File \"/usr/local/lib/python3.7/dist-packages/tornado/stack_context.py\", line 300, in null_wrapper\n>>>     return fn(*args, **kwargs)\n>>> \n>>>   File \"/usr/local/lib/python3.7/dist-packages/ipykernel/kernelbase.py\", line 283, in dispatcher\n>>>     return self.dispatch_shell(stream, msg)\n>>> \n>>>   File \"/usr/local/lib/python3.7/dist-packages/ipykernel/kernelbase.py\", line 233, in dispatch_shell\n>>>     handler(stream, idents, msg)\n>>> \n>>>   File \"/usr/local/lib/python3.7/dist-packages/ipykernel/kernelbase.py\", line 399, in execute_request\n>>>     user_expressions, allow_stdin)\n>>> \n>>>   File \"/usr/local/lib/python3.7/dist-packages/ipykernel/ipkernel.py\", line 208, in do_execute\n>>>     res = shell.run_cell(code, store_history=store_history, silent=silent)\n>>> \n>>>   File \"/usr/local/lib/python3.7/dist-packages/ipykernel/zmqshell.py\", line 537, in run_cell\n>>>     return super(ZMQInteractiveShell, self).run_cell(*args, **kwargs)\n>>> \n>>>   File \"/usr/local/lib/python3.7/dist-packages/IPython/core/interactiveshell.py\", line 2718, in run_cell\n>>>     interactivity=interactivity, compiler=compiler, result=result)\n>>> \n>>>   File \"/usr/local/lib/python3.7/dist-packages/IPython/core/interactiveshell.py\", line 2828, in run_ast_nodes\n>>>     if self.run_code(code, result):\n>>> \n>>>   File \"/usr/local/lib/python3.7/dist-packages/IPython/core/interactiveshell.py\", line 2882, in run_code\n>>>     exec(code_obj, self.user_global_ns, self.user_ns)\n>>> \n>>>   File \"<ipython-input-18-fee9e9e6340a>\", line 3, in <module>\n>>>     ZFnet_model.fit(train_ds, epochs = 150, verbose=2, validation_data = validation_ds)\n>>> \n>>>   File \"/usr/local/lib/python3.7/dist-packages/keras/utils/traceback_utils.py\", line 64, in error_handler\n>>>     return fn(*args, **kwargs)\n>>> \n>>>   File \"/usr/local/lib/python3.7/dist-packages/keras/engine/training.py\", line 1216, in fit\n>>>     tmp_logs = self.train_function(iterator)\n>>> \n>>>   File \"/usr/local/lib/python3.7/dist-packages/keras/engine/training.py\", line 878, in train_function\n>>>     return step_function(self, iterator)\n>>> \n>>>   File \"/usr/local/lib/python3.7/dist-packages/keras/engine/training.py\", line 867, in step_function\n>>>     outputs = model.distribute_strategy.run(run_step, args=(data,))\n>>> \n>>>   File \"/usr/local/lib/python3.7/dist-packages/keras/engine/training.py\", line 860, in run_step\n>>>     outputs = model.train_step(data)\n>>> \n>>>   File \"/usr/local/lib/python3.7/dist-packages/keras/engine/training.py\", line 808, in train_step\n>>>     y_pred = self(x, training=True)\n>>> \n>>>   File \"/usr/local/lib/python3.7/dist-packages/keras/utils/traceback_utils.py\", line 64, in error_handler\n>>>     return fn(*args, **kwargs)\n>>> \n>>>   File \"/usr/local/lib/python3.7/dist-packages/keras/engine/base_layer.py\", line 1083, in __call__\n>>>     outputs = call_fn(inputs, *args, **kwargs)\n>>> \n>>>   File \"/usr/local/lib/python3.7/dist-packages/keras/utils/traceback_utils.py\", line 92, in error_handler\n>>>     return fn(*args, **kwargs)\n>>> \n>>>   File \"/usr/local/lib/python3.7/dist-packages/keras/engine/sequential.py\", line 373, in call\n>>>     return super(Sequential, self).call(inputs, training=training, mask=mask)\n>>> \n>>>   File \"/usr/local/lib/python3.7/dist-packages/keras/engine/functional.py\", line 452, in call\n>>>     inputs, training=training, mask=mask)\n>>> \n>>>   File \"/usr/local/lib/python3.7/dist-packages/keras/engine/functional.py\", line 589, in _run_internal_graph\n>>>     outputs = node.layer(*args, **kwargs)\n>>> \n>>>   File \"/usr/local/lib/python3.7/dist-packages/keras/utils/traceback_utils.py\", line 64, in error_handler\n>>>     return fn(*args, **kwargs)\n>>> \n>>>   File \"/usr/local/lib/python3.7/dist-packages/keras/engine/base_layer.py\", line 1083, in __call__\n>>>     outputs = call_fn(inputs, *args, **kwargs)\n>>> \n>>>   File \"/usr/local/lib/python3.7/dist-packages/keras/utils/traceback_utils.py\", line 92, in error_handler\n>>>     return fn(*args, **kwargs)\n>>> \n>>>   File \"/usr/local/lib/python3.7/dist-packages/keras/layers/core/activation.py\", line 57, in call\n>>>     return self.activation(inputs)\n>>> \n>>>   File \"/usr/local/lib/python3.7/dist-packages/keras/activations.py\", line 311, in relu\n>>>     return backend.relu(x, alpha=alpha, max_value=max_value, threshold=threshold)\n>>> \n>>>   File \"/usr/local/lib/python3.7/dist-packages/keras/backend.py\", line 4867, in relu\n>>>     x = tf.nn.relu(x)\n>>> "
          ]
        }
      ],
      "source": [
        "#batch_size 32 with epoch 100 is best with a dataset of ~2000\n",
        "#batch_size 532 with epoch 80 seems pretty good with a dataset of ~5000\n",
        "ZFnet_model.fit(train_ds, epochs = 150, verbose=2, validation_data = validation_ds) "
      ]
    },
    {
      "cell_type": "code",
      "execution_count": null,
      "metadata": {
        "colab": {
          "base_uri": "https://localhost:8080/"
        },
        "id": "_TVpBzg5eQW3",
        "outputId": "bd737af9-645e-4208-bc19-527cc69ef0f9"
      },
      "outputs": [
        {
          "name": "stdout",
          "output_type": "stream",
          "text": [
            "1/1 [==============================] - 6s 6s/step - loss: 0.2670 - accuracy: 0.9731\n",
            "36/36 [==============================] - 54s 1s/step - loss: 0.0051 - accuracy: 0.9983\n"
          ]
        }
      ],
      "source": [
        "validation_metrics = ZFnet_model.evaluate(validation_ds)\n",
        "test_metrics = ZFnet_model.evaluate(test_ds)"
      ]
    }
  ],
  "metadata": {
    "accelerator": "GPU",
    "colab": {
      "collapsed_sections": [],
      "machine_shape": "hm",
      "name": "Final_CECS_456_Project_.ipynb",
      "provenance": [],
      "include_colab_link": true
    },
    "kernelspec": {
      "display_name": "Python 3",
      "name": "python3"
    },
    "language_info": {
      "name": "python"
    }
  },
  "nbformat": 4,
  "nbformat_minor": 0
}